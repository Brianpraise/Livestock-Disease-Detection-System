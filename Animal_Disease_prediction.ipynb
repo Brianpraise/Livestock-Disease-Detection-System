{
 "cells": [
  {
   "cell_type": "markdown",
   "metadata": {},
   "source": [
    "Read All Libraries"
   ]
  },
  {
   "cell_type": "code",
   "execution_count": 3,
   "metadata": {},
   "outputs": [],
   "source": [
    "import pandas as pd\n",
    "from sklearn.preprocessing import OneHotEncoder\n",
    "from sklearn.compose import make_column_transformer\n",
    "from sklearn.model_selection import train_test_split\n",
    "from sklearn.preprocessing import LabelEncoder\n",
    "from sklearn.ensemble import RandomForestClassifier\n",
    "from sklearn.pipeline import make_pipeline"
   ]
  },
  {
   "cell_type": "markdown",
   "metadata": {},
   "source": [
    "Read Data"
   ]
  },
  {
   "cell_type": "code",
   "execution_count": 4,
   "metadata": {},
   "outputs": [],
   "source": [
    "data=pd.read_csv(\"Animal_Disease_dataset.csv\")"
   ]
  },
  {
   "cell_type": "code",
   "execution_count": 5,
   "metadata": {},
   "outputs": [
    {
     "data": {
      "text/html": [
       "<div>\n",
       "<style scoped>\n",
       "    .dataframe tbody tr th:only-of-type {\n",
       "        vertical-align: middle;\n",
       "    }\n",
       "\n",
       "    .dataframe tbody tr th {\n",
       "        vertical-align: top;\n",
       "    }\n",
       "\n",
       "    .dataframe thead th {\n",
       "        text-align: right;\n",
       "    }\n",
       "</style>\n",
       "<table border=\"1\" class=\"dataframe\">\n",
       "  <thead>\n",
       "    <tr style=\"text-align: right;\">\n",
       "      <th></th>\n",
       "      <th>AnimalName</th>\n",
       "      <th>symptoms1</th>\n",
       "      <th>symptoms2</th>\n",
       "      <th>symptoms3</th>\n",
       "      <th>symptoms4</th>\n",
       "      <th>symptoms5</th>\n",
       "      <th>Dangerous</th>\n",
       "      <th>Disease</th>\n",
       "    </tr>\n",
       "  </thead>\n",
       "  <tbody>\n",
       "    <tr>\n",
       "      <th>0</th>\n",
       "      <td>Dog</td>\n",
       "      <td>Fever</td>\n",
       "      <td>Diarrhea</td>\n",
       "      <td>Vomiting</td>\n",
       "      <td>Weight loss</td>\n",
       "      <td>Dehydration</td>\n",
       "      <td>Yes</td>\n",
       "      <td>Canine Parvovirus</td>\n",
       "    </tr>\n",
       "    <tr>\n",
       "      <th>1</th>\n",
       "      <td>Dog</td>\n",
       "      <td>Fever</td>\n",
       "      <td>Diarrhea</td>\n",
       "      <td>Coughing</td>\n",
       "      <td>Tiredness</td>\n",
       "      <td>Pains</td>\n",
       "      <td>Yes</td>\n",
       "      <td>Canine Coronavirus</td>\n",
       "    </tr>\n",
       "    <tr>\n",
       "      <th>2</th>\n",
       "      <td>Dog</td>\n",
       "      <td>Fever</td>\n",
       "      <td>Diarrhea</td>\n",
       "      <td>Coughing</td>\n",
       "      <td>Vomiting</td>\n",
       "      <td>Anorexia</td>\n",
       "      <td>Yes</td>\n",
       "      <td>Canine Distemper</td>\n",
       "    </tr>\n",
       "    <tr>\n",
       "      <th>3</th>\n",
       "      <td>Dog</td>\n",
       "      <td>Fever</td>\n",
       "      <td>Difficulty breathing</td>\n",
       "      <td>Coughing</td>\n",
       "      <td>Lethargy</td>\n",
       "      <td>Sneezing</td>\n",
       "      <td>Yes</td>\n",
       "      <td>Canine Influenza</td>\n",
       "    </tr>\n",
       "    <tr>\n",
       "      <th>4</th>\n",
       "      <td>Dog</td>\n",
       "      <td>Fever</td>\n",
       "      <td>Diarrhea</td>\n",
       "      <td>Coughing</td>\n",
       "      <td>Lethargy</td>\n",
       "      <td>Blue Eye</td>\n",
       "      <td>Yes</td>\n",
       "      <td>Infectious canine hepatitis</td>\n",
       "    </tr>\n",
       "    <tr>\n",
       "      <th>...</th>\n",
       "      <td>...</td>\n",
       "      <td>...</td>\n",
       "      <td>...</td>\n",
       "      <td>...</td>\n",
       "      <td>...</td>\n",
       "      <td>...</td>\n",
       "      <td>...</td>\n",
       "      <td>...</td>\n",
       "    </tr>\n",
       "    <tr>\n",
       "      <th>866</th>\n",
       "      <td>Buffaloes</td>\n",
       "      <td>Fever</td>\n",
       "      <td>Difficulty breathing</td>\n",
       "      <td>Poor Appetite</td>\n",
       "      <td>Eye and Skin change</td>\n",
       "      <td>Unable to exercise</td>\n",
       "      <td>Yes</td>\n",
       "      <td>Histoplasmosis</td>\n",
       "    </tr>\n",
       "    <tr>\n",
       "      <th>867</th>\n",
       "      <td>Buffaloes</td>\n",
       "      <td>Fever</td>\n",
       "      <td>Loss of  appetite</td>\n",
       "      <td>Lession on the skin</td>\n",
       "      <td>Lethargy</td>\n",
       "      <td>Joint Pain</td>\n",
       "      <td>Yes</td>\n",
       "      <td>Coccidioidomycosis</td>\n",
       "    </tr>\n",
       "    <tr>\n",
       "      <th>868</th>\n",
       "      <td>Buffaloes</td>\n",
       "      <td>Lesions in the nasal cavity</td>\n",
       "      <td>Lesions on nose</td>\n",
       "      <td>Vomiting</td>\n",
       "      <td>Noisy Breathing</td>\n",
       "      <td>Lesions on nose</td>\n",
       "      <td>Yes</td>\n",
       "      <td>Cryptococcosis</td>\n",
       "    </tr>\n",
       "    <tr>\n",
       "      <th>869</th>\n",
       "      <td>Buffaloes</td>\n",
       "      <td>Hair loss</td>\n",
       "      <td>Dandruff</td>\n",
       "      <td>Vomiting</td>\n",
       "      <td>Crusting of the skin</td>\n",
       "      <td>Ulcerated skin</td>\n",
       "      <td>Yes</td>\n",
       "      <td>Ring worm</td>\n",
       "    </tr>\n",
       "    <tr>\n",
       "      <th>870</th>\n",
       "      <td>Buffaloes</td>\n",
       "      <td>Greenish-yellow nasal discharge</td>\n",
       "      <td>Lack of pigmentation</td>\n",
       "      <td>Vomiting</td>\n",
       "      <td>Lethargy</td>\n",
       "      <td>Pain on face</td>\n",
       "      <td>Yes</td>\n",
       "      <td>Aspergillosis</td>\n",
       "    </tr>\n",
       "  </tbody>\n",
       "</table>\n",
       "<p>871 rows × 8 columns</p>\n",
       "</div>"
      ],
      "text/plain": [
       "    AnimalName                        symptoms1             symptoms2  \\\n",
       "0          Dog                            Fever              Diarrhea   \n",
       "1          Dog                            Fever              Diarrhea   \n",
       "2          Dog                            Fever              Diarrhea   \n",
       "3          Dog                            Fever  Difficulty breathing   \n",
       "4          Dog                            Fever              Diarrhea   \n",
       "..         ...                              ...                   ...   \n",
       "866  Buffaloes                            Fever  Difficulty breathing   \n",
       "867  Buffaloes                            Fever     Loss of  appetite   \n",
       "868  Buffaloes      Lesions in the nasal cavity       Lesions on nose   \n",
       "869  Buffaloes                        Hair loss              Dandruff   \n",
       "870  Buffaloes  Greenish-yellow nasal discharge  Lack of pigmentation   \n",
       "\n",
       "               symptoms3             symptoms4           symptoms5 Dangerous  \\\n",
       "0               Vomiting           Weight loss         Dehydration       Yes   \n",
       "1               Coughing             Tiredness               Pains       Yes   \n",
       "2               Coughing              Vomiting            Anorexia       Yes   \n",
       "3               Coughing              Lethargy            Sneezing       Yes   \n",
       "4               Coughing              Lethargy            Blue Eye       Yes   \n",
       "..                   ...                   ...                 ...       ...   \n",
       "866        Poor Appetite   Eye and Skin change  Unable to exercise       Yes   \n",
       "867  Lession on the skin              Lethargy          Joint Pain       Yes   \n",
       "868             Vomiting       Noisy Breathing     Lesions on nose       Yes   \n",
       "869             Vomiting  Crusting of the skin      Ulcerated skin       Yes   \n",
       "870             Vomiting              Lethargy        Pain on face       Yes   \n",
       "\n",
       "                         Disease  \n",
       "0              Canine Parvovirus  \n",
       "1             Canine Coronavirus  \n",
       "2              Canine Distemper   \n",
       "3               Canine Influenza  \n",
       "4    Infectious canine hepatitis  \n",
       "..                           ...  \n",
       "866               Histoplasmosis  \n",
       "867           Coccidioidomycosis  \n",
       "868               Cryptococcosis  \n",
       "869                    Ring worm  \n",
       "870                Aspergillosis  \n",
       "\n",
       "[871 rows x 8 columns]"
      ]
     },
     "execution_count": 5,
     "metadata": {},
     "output_type": "execute_result"
    }
   ],
   "source": [
    "data"
   ]
  },
  {
   "cell_type": "markdown",
   "metadata": {},
   "source": [
    "Check Shape of data"
   ]
  },
  {
   "cell_type": "code",
   "execution_count": 6,
   "metadata": {},
   "outputs": [
    {
     "data": {
      "text/plain": [
       "(871, 8)"
      ]
     },
     "execution_count": 6,
     "metadata": {},
     "output_type": "execute_result"
    }
   ],
   "source": [
    "data.shape"
   ]
  },
  {
   "cell_type": "code",
   "execution_count": 7,
   "metadata": {},
   "outputs": [
    {
     "data": {
      "text/plain": [
       "871"
      ]
     },
     "execution_count": 7,
     "metadata": {},
     "output_type": "execute_result"
    }
   ],
   "source": [
    "len(data)"
   ]
  },
  {
   "cell_type": "markdown",
   "metadata": {},
   "source": [
    "Check there is null value"
   ]
  },
  {
   "cell_type": "code",
   "execution_count": 8,
   "metadata": {},
   "outputs": [
    {
     "data": {
      "text/plain": [
       "<bound method NDFrame._add_numeric_operations.<locals>.any of      AnimalName  symptoms1  symptoms2  symptoms3  symptoms4  symptoms5  \\\n",
       "0         False      False      False      False      False      False   \n",
       "1         False      False      False      False      False      False   \n",
       "2         False      False      False      False      False      False   \n",
       "3         False      False      False      False      False      False   \n",
       "4         False      False      False      False      False      False   \n",
       "..          ...        ...        ...        ...        ...        ...   \n",
       "866       False      False      False      False      False      False   \n",
       "867       False      False      False      False      False      False   \n",
       "868       False      False      False      False      False      False   \n",
       "869       False      False      False      False      False      False   \n",
       "870       False      False      False      False      False      False   \n",
       "\n",
       "     Dangerous  Disease  \n",
       "0        False    False  \n",
       "1        False    False  \n",
       "2        False    False  \n",
       "3        False    False  \n",
       "4        False    False  \n",
       "..         ...      ...  \n",
       "866      False    False  \n",
       "867      False    False  \n",
       "868      False    False  \n",
       "869      False    False  \n",
       "870      False    False  \n",
       "\n",
       "[871 rows x 8 columns]>"
      ]
     },
     "execution_count": 8,
     "metadata": {},
     "output_type": "execute_result"
    }
   ],
   "source": [
    "data.isnull().any"
   ]
  },
  {
   "cell_type": "markdown",
   "metadata": {},
   "source": [
    "Split x and y values"
   ]
  },
  {
   "cell_type": "code",
   "execution_count": 9,
   "metadata": {},
   "outputs": [],
   "source": [
    "x=data.drop(['Dangerous','Disease'],axis=1)"
   ]
  },
  {
   "cell_type": "code",
   "execution_count": 10,
   "metadata": {},
   "outputs": [],
   "source": [
    "y=data.Disease"
   ]
  },
  {
   "cell_type": "code",
   "execution_count": 11,
   "metadata": {},
   "outputs": [
    {
     "data": {
      "text/plain": [
       "(871, 6)"
      ]
     },
     "execution_count": 11,
     "metadata": {},
     "output_type": "execute_result"
    }
   ],
   "source": [
    "x.shape"
   ]
  },
  {
   "cell_type": "code",
   "execution_count": 12,
   "metadata": {},
   "outputs": [
    {
     "data": {
      "text/plain": [
       "(871,)"
      ]
     },
     "execution_count": 12,
     "metadata": {},
     "output_type": "execute_result"
    }
   ],
   "source": [
    "y.shape"
   ]
  },
  {
   "cell_type": "markdown",
   "metadata": {},
   "source": [
    "Split x,y into train test"
   ]
  },
  {
   "cell_type": "code",
   "execution_count": 13,
   "metadata": {},
   "outputs": [],
   "source": [
    "x_train,x_test,y_train,y_test=train_test_split(x,y,test_size=.1,random_state=1)"
   ]
  },
  {
   "cell_type": "code",
   "execution_count": 14,
   "metadata": {},
   "outputs": [
    {
     "data": {
      "text/plain": [
       "(783, 783)"
      ]
     },
     "execution_count": 14,
     "metadata": {},
     "output_type": "execute_result"
    }
   ],
   "source": [
    "len(x_train),len(y_train)"
   ]
  },
  {
   "cell_type": "code",
   "execution_count": 15,
   "metadata": {},
   "outputs": [
    {
     "data": {
      "text/plain": [
       "(88, 88)"
      ]
     },
     "execution_count": 15,
     "metadata": {},
     "output_type": "execute_result"
    }
   ],
   "source": [
    "len(x_test),len(y_test)"
   ]
  },
  {
   "cell_type": "markdown",
   "metadata": {},
   "source": [
    "Applying All columns Onehotencoder"
   ]
  },
  {
   "cell_type": "code",
   "execution_count": null,
   "metadata": {},
   "outputs": [],
   "source": []
  },
  {
   "cell_type": "code",
   "execution_count": 16,
   "metadata": {},
   "outputs": [
    {
     "data": {
      "text/html": [
       "<style>#sk-container-id-1 {color: black;background-color: white;}#sk-container-id-1 pre{padding: 0;}#sk-container-id-1 div.sk-toggleable {background-color: white;}#sk-container-id-1 label.sk-toggleable__label {cursor: pointer;display: block;width: 100%;margin-bottom: 0;padding: 0.3em;box-sizing: border-box;text-align: center;}#sk-container-id-1 label.sk-toggleable__label-arrow:before {content: \"▸\";float: left;margin-right: 0.25em;color: #696969;}#sk-container-id-1 label.sk-toggleable__label-arrow:hover:before {color: black;}#sk-container-id-1 div.sk-estimator:hover label.sk-toggleable__label-arrow:before {color: black;}#sk-container-id-1 div.sk-toggleable__content {max-height: 0;max-width: 0;overflow: hidden;text-align: left;background-color: #f0f8ff;}#sk-container-id-1 div.sk-toggleable__content pre {margin: 0.2em;color: black;border-radius: 0.25em;background-color: #f0f8ff;}#sk-container-id-1 input.sk-toggleable__control:checked~div.sk-toggleable__content {max-height: 200px;max-width: 100%;overflow: auto;}#sk-container-id-1 input.sk-toggleable__control:checked~label.sk-toggleable__label-arrow:before {content: \"▾\";}#sk-container-id-1 div.sk-estimator input.sk-toggleable__control:checked~label.sk-toggleable__label {background-color: #d4ebff;}#sk-container-id-1 div.sk-label input.sk-toggleable__control:checked~label.sk-toggleable__label {background-color: #d4ebff;}#sk-container-id-1 input.sk-hidden--visually {border: 0;clip: rect(1px 1px 1px 1px);clip: rect(1px, 1px, 1px, 1px);height: 1px;margin: -1px;overflow: hidden;padding: 0;position: absolute;width: 1px;}#sk-container-id-1 div.sk-estimator {font-family: monospace;background-color: #f0f8ff;border: 1px dotted black;border-radius: 0.25em;box-sizing: border-box;margin-bottom: 0.5em;}#sk-container-id-1 div.sk-estimator:hover {background-color: #d4ebff;}#sk-container-id-1 div.sk-parallel-item::after {content: \"\";width: 100%;border-bottom: 1px solid gray;flex-grow: 1;}#sk-container-id-1 div.sk-label:hover label.sk-toggleable__label {background-color: #d4ebff;}#sk-container-id-1 div.sk-serial::before {content: \"\";position: absolute;border-left: 1px solid gray;box-sizing: border-box;top: 0;bottom: 0;left: 50%;z-index: 0;}#sk-container-id-1 div.sk-serial {display: flex;flex-direction: column;align-items: center;background-color: white;padding-right: 0.2em;padding-left: 0.2em;position: relative;}#sk-container-id-1 div.sk-item {position: relative;z-index: 1;}#sk-container-id-1 div.sk-parallel {display: flex;align-items: stretch;justify-content: center;background-color: white;position: relative;}#sk-container-id-1 div.sk-item::before, #sk-container-id-1 div.sk-parallel-item::before {content: \"\";position: absolute;border-left: 1px solid gray;box-sizing: border-box;top: 0;bottom: 0;left: 50%;z-index: -1;}#sk-container-id-1 div.sk-parallel-item {display: flex;flex-direction: column;z-index: 1;position: relative;background-color: white;}#sk-container-id-1 div.sk-parallel-item:first-child::after {align-self: flex-end;width: 50%;}#sk-container-id-1 div.sk-parallel-item:last-child::after {align-self: flex-start;width: 50%;}#sk-container-id-1 div.sk-parallel-item:only-child::after {width: 0;}#sk-container-id-1 div.sk-dashed-wrapped {border: 1px dashed gray;margin: 0 0.4em 0.5em 0.4em;box-sizing: border-box;padding-bottom: 0.4em;background-color: white;}#sk-container-id-1 div.sk-label label {font-family: monospace;font-weight: bold;display: inline-block;line-height: 1.2em;}#sk-container-id-1 div.sk-label-container {text-align: center;}#sk-container-id-1 div.sk-container {/* jupyter's `normalize.less` sets `[hidden] { display: none; }` but bootstrap.min.css set `[hidden] { display: none !important; }` so we also need the `!important` here to be able to override the default hidden behavior on the sphinx rendered scikit-learn.org. See: https://github.com/scikit-learn/scikit-learn/issues/21755 */display: inline-block !important;position: relative;}#sk-container-id-1 div.sk-text-repr-fallback {display: none;}</style><div id=\"sk-container-id-1\" class=\"sk-top-container\"><div class=\"sk-text-repr-fallback\"><pre>OneHotEncoder()</pre><b>In a Jupyter environment, please rerun this cell to show the HTML representation or trust the notebook. <br />On GitHub, the HTML representation is unable to render, please try loading this page with nbviewer.org.</b></div><div class=\"sk-container\" hidden><div class=\"sk-item\"><div class=\"sk-estimator sk-toggleable\"><input class=\"sk-toggleable__control sk-hidden--visually\" id=\"sk-estimator-id-1\" type=\"checkbox\" checked><label for=\"sk-estimator-id-1\" class=\"sk-toggleable__label sk-toggleable__label-arrow\">OneHotEncoder</label><div class=\"sk-toggleable__content\"><pre>OneHotEncoder()</pre></div></div></div></div></div>"
      ],
      "text/plain": [
       "OneHotEncoder()"
      ]
     },
     "execution_count": 16,
     "metadata": {},
     "output_type": "execute_result"
    }
   ],
   "source": [
    "onehot=OneHotEncoder()\n",
    "onehot.fit(x[['AnimalName','symptoms1','symptoms2','symptoms3','symptoms4','symptoms5']])"
   ]
  },
  {
   "cell_type": "code",
   "execution_count": 17,
   "metadata": {},
   "outputs": [],
   "source": [
    "a=make_column_transformer((OneHotEncoder(categories=onehot.categories_,handle_unknown = 'ignore'),['AnimalName','symptoms1','symptoms2','symptoms3','symptoms4','symptoms5']),remainder='passthrough')"
   ]
  },
  {
   "cell_type": "markdown",
   "metadata": {},
   "source": [
    "Model Creation"
   ]
  },
  {
   "cell_type": "code",
   "execution_count": 18,
   "metadata": {},
   "outputs": [],
   "source": [
    "model=RandomForestClassifier()"
   ]
  },
  {
   "cell_type": "markdown",
   "metadata": {},
   "source": [
    "Pipe Using"
   ]
  },
  {
   "cell_type": "code",
   "execution_count": 19,
   "metadata": {},
   "outputs": [
    {
     "data": {
      "text/html": [
       "<style>#sk-container-id-2 {color: black;background-color: white;}#sk-container-id-2 pre{padding: 0;}#sk-container-id-2 div.sk-toggleable {background-color: white;}#sk-container-id-2 label.sk-toggleable__label {cursor: pointer;display: block;width: 100%;margin-bottom: 0;padding: 0.3em;box-sizing: border-box;text-align: center;}#sk-container-id-2 label.sk-toggleable__label-arrow:before {content: \"▸\";float: left;margin-right: 0.25em;color: #696969;}#sk-container-id-2 label.sk-toggleable__label-arrow:hover:before {color: black;}#sk-container-id-2 div.sk-estimator:hover label.sk-toggleable__label-arrow:before {color: black;}#sk-container-id-2 div.sk-toggleable__content {max-height: 0;max-width: 0;overflow: hidden;text-align: left;background-color: #f0f8ff;}#sk-container-id-2 div.sk-toggleable__content pre {margin: 0.2em;color: black;border-radius: 0.25em;background-color: #f0f8ff;}#sk-container-id-2 input.sk-toggleable__control:checked~div.sk-toggleable__content {max-height: 200px;max-width: 100%;overflow: auto;}#sk-container-id-2 input.sk-toggleable__control:checked~label.sk-toggleable__label-arrow:before {content: \"▾\";}#sk-container-id-2 div.sk-estimator input.sk-toggleable__control:checked~label.sk-toggleable__label {background-color: #d4ebff;}#sk-container-id-2 div.sk-label input.sk-toggleable__control:checked~label.sk-toggleable__label {background-color: #d4ebff;}#sk-container-id-2 input.sk-hidden--visually {border: 0;clip: rect(1px 1px 1px 1px);clip: rect(1px, 1px, 1px, 1px);height: 1px;margin: -1px;overflow: hidden;padding: 0;position: absolute;width: 1px;}#sk-container-id-2 div.sk-estimator {font-family: monospace;background-color: #f0f8ff;border: 1px dotted black;border-radius: 0.25em;box-sizing: border-box;margin-bottom: 0.5em;}#sk-container-id-2 div.sk-estimator:hover {background-color: #d4ebff;}#sk-container-id-2 div.sk-parallel-item::after {content: \"\";width: 100%;border-bottom: 1px solid gray;flex-grow: 1;}#sk-container-id-2 div.sk-label:hover label.sk-toggleable__label {background-color: #d4ebff;}#sk-container-id-2 div.sk-serial::before {content: \"\";position: absolute;border-left: 1px solid gray;box-sizing: border-box;top: 0;bottom: 0;left: 50%;z-index: 0;}#sk-container-id-2 div.sk-serial {display: flex;flex-direction: column;align-items: center;background-color: white;padding-right: 0.2em;padding-left: 0.2em;position: relative;}#sk-container-id-2 div.sk-item {position: relative;z-index: 1;}#sk-container-id-2 div.sk-parallel {display: flex;align-items: stretch;justify-content: center;background-color: white;position: relative;}#sk-container-id-2 div.sk-item::before, #sk-container-id-2 div.sk-parallel-item::before {content: \"\";position: absolute;border-left: 1px solid gray;box-sizing: border-box;top: 0;bottom: 0;left: 50%;z-index: -1;}#sk-container-id-2 div.sk-parallel-item {display: flex;flex-direction: column;z-index: 1;position: relative;background-color: white;}#sk-container-id-2 div.sk-parallel-item:first-child::after {align-self: flex-end;width: 50%;}#sk-container-id-2 div.sk-parallel-item:last-child::after {align-self: flex-start;width: 50%;}#sk-container-id-2 div.sk-parallel-item:only-child::after {width: 0;}#sk-container-id-2 div.sk-dashed-wrapped {border: 1px dashed gray;margin: 0 0.4em 0.5em 0.4em;box-sizing: border-box;padding-bottom: 0.4em;background-color: white;}#sk-container-id-2 div.sk-label label {font-family: monospace;font-weight: bold;display: inline-block;line-height: 1.2em;}#sk-container-id-2 div.sk-label-container {text-align: center;}#sk-container-id-2 div.sk-container {/* jupyter's `normalize.less` sets `[hidden] { display: none; }` but bootstrap.min.css set `[hidden] { display: none !important; }` so we also need the `!important` here to be able to override the default hidden behavior on the sphinx rendered scikit-learn.org. See: https://github.com/scikit-learn/scikit-learn/issues/21755 */display: inline-block !important;position: relative;}#sk-container-id-2 div.sk-text-repr-fallback {display: none;}</style><div id=\"sk-container-id-2\" class=\"sk-top-container\"><div class=\"sk-text-repr-fallback\"><pre>Pipeline(steps=[(&#x27;columntransformer&#x27;,\n",
       "                 ColumnTransformer(remainder=&#x27;passthrough&#x27;,\n",
       "                                   transformers=[(&#x27;onehotencoder&#x27;,\n",
       "                                                  OneHotEncoder(categories=[array([&#x27;Birds&#x27;, &#x27;Black-tailed deer&#x27;, &#x27;Buffaloes&#x27;, &#x27;Cattle&#x27;, &#x27;Chicken&#x27;,\n",
       "       &#x27;Deer&#x27;, &#x27;Dog&#x27;, &#x27;Dogs&#x27;, &#x27;Donkey&#x27;, &#x27;Duck&#x27;, &#x27;Elephant&#x27;, &#x27;Elk&#x27;, &#x27;Fowl&#x27;,\n",
       "       &#x27;Fox&#x27;, &#x27;Fox &#x27;, &#x27;Goat&#x27;, &#x27;Goats&#x27;, &#x27;Hamster&#x27;, &#x27;Horse&#x27;, &#x27;Hyaenas&#x27;,\n",
       "       &#x27;Lion&#x27;, &#x27;Monkey&#x27;, &#x27;Moos&#x27;, &#x27;Mule deer&#x27;,...\n",
       "       &#x27;loss of\\xa0wariness&#x27;, &#x27;recumbency&#x27;, &#x27;restless movement&#x27;,\n",
       "       &#x27;slow growth&#x27;, &#x27;sudden death&#x27;, &#x27;swollen abdomen&#x27;, &#x27;trembling&#x27;,\n",
       "       &#x27;twisted neck&#x27;, &#x27;urination problem&#x27;, &#x27;weakness&#x27;,\n",
       "       &#x27;\\xa0increased passing gas&#x27;, &#x27;\\xa0pain and bloating&#x27;], dtype=object)],\n",
       "                                                                handle_unknown=&#x27;ignore&#x27;),\n",
       "                                                  [&#x27;AnimalName&#x27;, &#x27;symptoms1&#x27;,\n",
       "                                                   &#x27;symptoms2&#x27;, &#x27;symptoms3&#x27;,\n",
       "                                                   &#x27;symptoms4&#x27;,\n",
       "                                                   &#x27;symptoms5&#x27;])])),\n",
       "                (&#x27;randomforestclassifier&#x27;, RandomForestClassifier())])</pre><b>In a Jupyter environment, please rerun this cell to show the HTML representation or trust the notebook. <br />On GitHub, the HTML representation is unable to render, please try loading this page with nbviewer.org.</b></div><div class=\"sk-container\" hidden><div class=\"sk-item sk-dashed-wrapped\"><div class=\"sk-label-container\"><div class=\"sk-label sk-toggleable\"><input class=\"sk-toggleable__control sk-hidden--visually\" id=\"sk-estimator-id-2\" type=\"checkbox\" ><label for=\"sk-estimator-id-2\" class=\"sk-toggleable__label sk-toggleable__label-arrow\">Pipeline</label><div class=\"sk-toggleable__content\"><pre>Pipeline(steps=[(&#x27;columntransformer&#x27;,\n",
       "                 ColumnTransformer(remainder=&#x27;passthrough&#x27;,\n",
       "                                   transformers=[(&#x27;onehotencoder&#x27;,\n",
       "                                                  OneHotEncoder(categories=[array([&#x27;Birds&#x27;, &#x27;Black-tailed deer&#x27;, &#x27;Buffaloes&#x27;, &#x27;Cattle&#x27;, &#x27;Chicken&#x27;,\n",
       "       &#x27;Deer&#x27;, &#x27;Dog&#x27;, &#x27;Dogs&#x27;, &#x27;Donkey&#x27;, &#x27;Duck&#x27;, &#x27;Elephant&#x27;, &#x27;Elk&#x27;, &#x27;Fowl&#x27;,\n",
       "       &#x27;Fox&#x27;, &#x27;Fox &#x27;, &#x27;Goat&#x27;, &#x27;Goats&#x27;, &#x27;Hamster&#x27;, &#x27;Horse&#x27;, &#x27;Hyaenas&#x27;,\n",
       "       &#x27;Lion&#x27;, &#x27;Monkey&#x27;, &#x27;Moos&#x27;, &#x27;Mule deer&#x27;,...\n",
       "       &#x27;loss of\\xa0wariness&#x27;, &#x27;recumbency&#x27;, &#x27;restless movement&#x27;,\n",
       "       &#x27;slow growth&#x27;, &#x27;sudden death&#x27;, &#x27;swollen abdomen&#x27;, &#x27;trembling&#x27;,\n",
       "       &#x27;twisted neck&#x27;, &#x27;urination problem&#x27;, &#x27;weakness&#x27;,\n",
       "       &#x27;\\xa0increased passing gas&#x27;, &#x27;\\xa0pain and bloating&#x27;], dtype=object)],\n",
       "                                                                handle_unknown=&#x27;ignore&#x27;),\n",
       "                                                  [&#x27;AnimalName&#x27;, &#x27;symptoms1&#x27;,\n",
       "                                                   &#x27;symptoms2&#x27;, &#x27;symptoms3&#x27;,\n",
       "                                                   &#x27;symptoms4&#x27;,\n",
       "                                                   &#x27;symptoms5&#x27;])])),\n",
       "                (&#x27;randomforestclassifier&#x27;, RandomForestClassifier())])</pre></div></div></div><div class=\"sk-serial\"><div class=\"sk-item sk-dashed-wrapped\"><div class=\"sk-label-container\"><div class=\"sk-label sk-toggleable\"><input class=\"sk-toggleable__control sk-hidden--visually\" id=\"sk-estimator-id-3\" type=\"checkbox\" ><label for=\"sk-estimator-id-3\" class=\"sk-toggleable__label sk-toggleable__label-arrow\">columntransformer: ColumnTransformer</label><div class=\"sk-toggleable__content\"><pre>ColumnTransformer(remainder=&#x27;passthrough&#x27;,\n",
       "                  transformers=[(&#x27;onehotencoder&#x27;,\n",
       "                                 OneHotEncoder(categories=[array([&#x27;Birds&#x27;, &#x27;Black-tailed deer&#x27;, &#x27;Buffaloes&#x27;, &#x27;Cattle&#x27;, &#x27;Chicken&#x27;,\n",
       "       &#x27;Deer&#x27;, &#x27;Dog&#x27;, &#x27;Dogs&#x27;, &#x27;Donkey&#x27;, &#x27;Duck&#x27;, &#x27;Elephant&#x27;, &#x27;Elk&#x27;, &#x27;Fowl&#x27;,\n",
       "       &#x27;Fox&#x27;, &#x27;Fox &#x27;, &#x27;Goat&#x27;, &#x27;Goats&#x27;, &#x27;Hamster&#x27;, &#x27;Horse&#x27;, &#x27;Hyaenas&#x27;,\n",
       "       &#x27;Lion&#x27;, &#x27;Monkey&#x27;, &#x27;Moos&#x27;, &#x27;Mule deer&#x27;, &#x27;Other Birds&#x27;, &#x27;Pig&#x27;,\n",
       "       &#x27;Pigs&#x27;, &#x27;Rabbit&#x27;, &#x27;R...\n",
       "       &#x27;inability to rise&#x27;, &#x27;lack of vocalizations&#x27;, &#x27;lameness&#x27;,\n",
       "       &#x27;loss of\\xa0wariness&#x27;, &#x27;recumbency&#x27;, &#x27;restless movement&#x27;,\n",
       "       &#x27;slow growth&#x27;, &#x27;sudden death&#x27;, &#x27;swollen abdomen&#x27;, &#x27;trembling&#x27;,\n",
       "       &#x27;twisted neck&#x27;, &#x27;urination problem&#x27;, &#x27;weakness&#x27;,\n",
       "       &#x27;\\xa0increased passing gas&#x27;, &#x27;\\xa0pain and bloating&#x27;], dtype=object)],\n",
       "                                               handle_unknown=&#x27;ignore&#x27;),\n",
       "                                 [&#x27;AnimalName&#x27;, &#x27;symptoms1&#x27;, &#x27;symptoms2&#x27;,\n",
       "                                  &#x27;symptoms3&#x27;, &#x27;symptoms4&#x27;, &#x27;symptoms5&#x27;])])</pre></div></div></div><div class=\"sk-parallel\"><div class=\"sk-parallel-item\"><div class=\"sk-item\"><div class=\"sk-label-container\"><div class=\"sk-label sk-toggleable\"><input class=\"sk-toggleable__control sk-hidden--visually\" id=\"sk-estimator-id-4\" type=\"checkbox\" ><label for=\"sk-estimator-id-4\" class=\"sk-toggleable__label sk-toggleable__label-arrow\">onehotencoder</label><div class=\"sk-toggleable__content\"><pre>[&#x27;AnimalName&#x27;, &#x27;symptoms1&#x27;, &#x27;symptoms2&#x27;, &#x27;symptoms3&#x27;, &#x27;symptoms4&#x27;, &#x27;symptoms5&#x27;]</pre></div></div></div><div class=\"sk-serial\"><div class=\"sk-item\"><div class=\"sk-estimator sk-toggleable\"><input class=\"sk-toggleable__control sk-hidden--visually\" id=\"sk-estimator-id-5\" type=\"checkbox\" ><label for=\"sk-estimator-id-5\" class=\"sk-toggleable__label sk-toggleable__label-arrow\">OneHotEncoder</label><div class=\"sk-toggleable__content\"><pre>OneHotEncoder(categories=[array([&#x27;Birds&#x27;, &#x27;Black-tailed deer&#x27;, &#x27;Buffaloes&#x27;, &#x27;Cattle&#x27;, &#x27;Chicken&#x27;,\n",
       "       &#x27;Deer&#x27;, &#x27;Dog&#x27;, &#x27;Dogs&#x27;, &#x27;Donkey&#x27;, &#x27;Duck&#x27;, &#x27;Elephant&#x27;, &#x27;Elk&#x27;, &#x27;Fowl&#x27;,\n",
       "       &#x27;Fox&#x27;, &#x27;Fox &#x27;, &#x27;Goat&#x27;, &#x27;Goats&#x27;, &#x27;Hamster&#x27;, &#x27;Horse&#x27;, &#x27;Hyaenas&#x27;,\n",
       "       &#x27;Lion&#x27;, &#x27;Monkey&#x27;, &#x27;Moos&#x27;, &#x27;Mule deer&#x27;, &#x27;Other Birds&#x27;, &#x27;Pig&#x27;,\n",
       "       &#x27;Pigs&#x27;, &#x27;Rabbit&#x27;, &#x27;Reindeer&#x27;, &#x27;Sheep&#x27;, &#x27;Sika deer&#x27;, &#x27;Tiger&#x27;,\n",
       "       &#x27;Turtle&#x27;, &#x27;Wapiti&#x27;, &#x27;White-tailed deer&#x27;,...\n",
       "       &#x27;difficulty moving and eating&#x27;, &#x27;drooping ears&#x27;, &#x27;droopy wings&#x27;,\n",
       "       &#x27;dull ness&#x27;, &#x27;extending its neck&#x27;, &#x27;fever&#x27;, &#x27;gasping for breath&#x27;,\n",
       "       &#x27;inability to rise&#x27;, &#x27;lack of vocalizations&#x27;, &#x27;lameness&#x27;,\n",
       "       &#x27;loss of\\xa0wariness&#x27;, &#x27;recumbency&#x27;, &#x27;restless movement&#x27;,\n",
       "       &#x27;slow growth&#x27;, &#x27;sudden death&#x27;, &#x27;swollen abdomen&#x27;, &#x27;trembling&#x27;,\n",
       "       &#x27;twisted neck&#x27;, &#x27;urination problem&#x27;, &#x27;weakness&#x27;,\n",
       "       &#x27;\\xa0increased passing gas&#x27;, &#x27;\\xa0pain and bloating&#x27;], dtype=object)],\n",
       "              handle_unknown=&#x27;ignore&#x27;)</pre></div></div></div></div></div></div><div class=\"sk-parallel-item\"><div class=\"sk-item\"><div class=\"sk-label-container\"><div class=\"sk-label sk-toggleable\"><input class=\"sk-toggleable__control sk-hidden--visually\" id=\"sk-estimator-id-6\" type=\"checkbox\" ><label for=\"sk-estimator-id-6\" class=\"sk-toggleable__label sk-toggleable__label-arrow\">remainder</label><div class=\"sk-toggleable__content\"><pre></pre></div></div></div><div class=\"sk-serial\"><div class=\"sk-item\"><div class=\"sk-estimator sk-toggleable\"><input class=\"sk-toggleable__control sk-hidden--visually\" id=\"sk-estimator-id-7\" type=\"checkbox\" ><label for=\"sk-estimator-id-7\" class=\"sk-toggleable__label sk-toggleable__label-arrow\">passthrough</label><div class=\"sk-toggleable__content\"><pre>passthrough</pre></div></div></div></div></div></div></div></div><div class=\"sk-item\"><div class=\"sk-estimator sk-toggleable\"><input class=\"sk-toggleable__control sk-hidden--visually\" id=\"sk-estimator-id-8\" type=\"checkbox\" ><label for=\"sk-estimator-id-8\" class=\"sk-toggleable__label sk-toggleable__label-arrow\">RandomForestClassifier</label><div class=\"sk-toggleable__content\"><pre>RandomForestClassifier()</pre></div></div></div></div></div></div></div>"
      ],
      "text/plain": [
       "Pipeline(steps=[('columntransformer',\n",
       "                 ColumnTransformer(remainder='passthrough',\n",
       "                                   transformers=[('onehotencoder',\n",
       "                                                  OneHotEncoder(categories=[array(['Birds', 'Black-tailed deer', 'Buffaloes', 'Cattle', 'Chicken',\n",
       "       'Deer', 'Dog', 'Dogs', 'Donkey', 'Duck', 'Elephant', 'Elk', 'Fowl',\n",
       "       'Fox', 'Fox ', 'Goat', 'Goats', 'Hamster', 'Horse', 'Hyaenas',\n",
       "       'Lion', 'Monkey', 'Moos', 'Mule deer',...\n",
       "       'loss of\\xa0wariness', 'recumbency', 'restless movement',\n",
       "       'slow growth', 'sudden death', 'swollen abdomen', 'trembling',\n",
       "       'twisted neck', 'urination problem', 'weakness',\n",
       "       '\\xa0increased passing gas', '\\xa0pain and bloating'], dtype=object)],\n",
       "                                                                handle_unknown='ignore'),\n",
       "                                                  ['AnimalName', 'symptoms1',\n",
       "                                                   'symptoms2', 'symptoms3',\n",
       "                                                   'symptoms4',\n",
       "                                                   'symptoms5'])])),\n",
       "                ('randomforestclassifier', RandomForestClassifier())])"
      ]
     },
     "execution_count": 19,
     "metadata": {},
     "output_type": "execute_result"
    }
   ],
   "source": [
    "pipe=make_pipeline(a,model)\n",
    "pipe"
   ]
  },
  {
   "cell_type": "code",
   "execution_count": 20,
   "metadata": {},
   "outputs": [
    {
     "data": {
      "text/html": [
       "<style>#sk-container-id-3 {color: black;background-color: white;}#sk-container-id-3 pre{padding: 0;}#sk-container-id-3 div.sk-toggleable {background-color: white;}#sk-container-id-3 label.sk-toggleable__label {cursor: pointer;display: block;width: 100%;margin-bottom: 0;padding: 0.3em;box-sizing: border-box;text-align: center;}#sk-container-id-3 label.sk-toggleable__label-arrow:before {content: \"▸\";float: left;margin-right: 0.25em;color: #696969;}#sk-container-id-3 label.sk-toggleable__label-arrow:hover:before {color: black;}#sk-container-id-3 div.sk-estimator:hover label.sk-toggleable__label-arrow:before {color: black;}#sk-container-id-3 div.sk-toggleable__content {max-height: 0;max-width: 0;overflow: hidden;text-align: left;background-color: #f0f8ff;}#sk-container-id-3 div.sk-toggleable__content pre {margin: 0.2em;color: black;border-radius: 0.25em;background-color: #f0f8ff;}#sk-container-id-3 input.sk-toggleable__control:checked~div.sk-toggleable__content {max-height: 200px;max-width: 100%;overflow: auto;}#sk-container-id-3 input.sk-toggleable__control:checked~label.sk-toggleable__label-arrow:before {content: \"▾\";}#sk-container-id-3 div.sk-estimator input.sk-toggleable__control:checked~label.sk-toggleable__label {background-color: #d4ebff;}#sk-container-id-3 div.sk-label input.sk-toggleable__control:checked~label.sk-toggleable__label {background-color: #d4ebff;}#sk-container-id-3 input.sk-hidden--visually {border: 0;clip: rect(1px 1px 1px 1px);clip: rect(1px, 1px, 1px, 1px);height: 1px;margin: -1px;overflow: hidden;padding: 0;position: absolute;width: 1px;}#sk-container-id-3 div.sk-estimator {font-family: monospace;background-color: #f0f8ff;border: 1px dotted black;border-radius: 0.25em;box-sizing: border-box;margin-bottom: 0.5em;}#sk-container-id-3 div.sk-estimator:hover {background-color: #d4ebff;}#sk-container-id-3 div.sk-parallel-item::after {content: \"\";width: 100%;border-bottom: 1px solid gray;flex-grow: 1;}#sk-container-id-3 div.sk-label:hover label.sk-toggleable__label {background-color: #d4ebff;}#sk-container-id-3 div.sk-serial::before {content: \"\";position: absolute;border-left: 1px solid gray;box-sizing: border-box;top: 0;bottom: 0;left: 50%;z-index: 0;}#sk-container-id-3 div.sk-serial {display: flex;flex-direction: column;align-items: center;background-color: white;padding-right: 0.2em;padding-left: 0.2em;position: relative;}#sk-container-id-3 div.sk-item {position: relative;z-index: 1;}#sk-container-id-3 div.sk-parallel {display: flex;align-items: stretch;justify-content: center;background-color: white;position: relative;}#sk-container-id-3 div.sk-item::before, #sk-container-id-3 div.sk-parallel-item::before {content: \"\";position: absolute;border-left: 1px solid gray;box-sizing: border-box;top: 0;bottom: 0;left: 50%;z-index: -1;}#sk-container-id-3 div.sk-parallel-item {display: flex;flex-direction: column;z-index: 1;position: relative;background-color: white;}#sk-container-id-3 div.sk-parallel-item:first-child::after {align-self: flex-end;width: 50%;}#sk-container-id-3 div.sk-parallel-item:last-child::after {align-self: flex-start;width: 50%;}#sk-container-id-3 div.sk-parallel-item:only-child::after {width: 0;}#sk-container-id-3 div.sk-dashed-wrapped {border: 1px dashed gray;margin: 0 0.4em 0.5em 0.4em;box-sizing: border-box;padding-bottom: 0.4em;background-color: white;}#sk-container-id-3 div.sk-label label {font-family: monospace;font-weight: bold;display: inline-block;line-height: 1.2em;}#sk-container-id-3 div.sk-label-container {text-align: center;}#sk-container-id-3 div.sk-container {/* jupyter's `normalize.less` sets `[hidden] { display: none; }` but bootstrap.min.css set `[hidden] { display: none !important; }` so we also need the `!important` here to be able to override the default hidden behavior on the sphinx rendered scikit-learn.org. See: https://github.com/scikit-learn/scikit-learn/issues/21755 */display: inline-block !important;position: relative;}#sk-container-id-3 div.sk-text-repr-fallback {display: none;}</style><div id=\"sk-container-id-3\" class=\"sk-top-container\"><div class=\"sk-text-repr-fallback\"><pre>Pipeline(steps=[(&#x27;columntransformer&#x27;,\n",
       "                 ColumnTransformer(remainder=&#x27;passthrough&#x27;,\n",
       "                                   transformers=[(&#x27;onehotencoder&#x27;,\n",
       "                                                  OneHotEncoder(categories=[array([&#x27;Birds&#x27;, &#x27;Black-tailed deer&#x27;, &#x27;Buffaloes&#x27;, &#x27;Cattle&#x27;, &#x27;Chicken&#x27;,\n",
       "       &#x27;Deer&#x27;, &#x27;Dog&#x27;, &#x27;Dogs&#x27;, &#x27;Donkey&#x27;, &#x27;Duck&#x27;, &#x27;Elephant&#x27;, &#x27;Elk&#x27;, &#x27;Fowl&#x27;,\n",
       "       &#x27;Fox&#x27;, &#x27;Fox &#x27;, &#x27;Goat&#x27;, &#x27;Goats&#x27;, &#x27;Hamster&#x27;, &#x27;Horse&#x27;, &#x27;Hyaenas&#x27;,\n",
       "       &#x27;Lion&#x27;, &#x27;Monkey&#x27;, &#x27;Moos&#x27;, &#x27;Mule deer&#x27;,...\n",
       "       &#x27;loss of\\xa0wariness&#x27;, &#x27;recumbency&#x27;, &#x27;restless movement&#x27;,\n",
       "       &#x27;slow growth&#x27;, &#x27;sudden death&#x27;, &#x27;swollen abdomen&#x27;, &#x27;trembling&#x27;,\n",
       "       &#x27;twisted neck&#x27;, &#x27;urination problem&#x27;, &#x27;weakness&#x27;,\n",
       "       &#x27;\\xa0increased passing gas&#x27;, &#x27;\\xa0pain and bloating&#x27;], dtype=object)],\n",
       "                                                                handle_unknown=&#x27;ignore&#x27;),\n",
       "                                                  [&#x27;AnimalName&#x27;, &#x27;symptoms1&#x27;,\n",
       "                                                   &#x27;symptoms2&#x27;, &#x27;symptoms3&#x27;,\n",
       "                                                   &#x27;symptoms4&#x27;,\n",
       "                                                   &#x27;symptoms5&#x27;])])),\n",
       "                (&#x27;randomforestclassifier&#x27;, RandomForestClassifier())])</pre><b>In a Jupyter environment, please rerun this cell to show the HTML representation or trust the notebook. <br />On GitHub, the HTML representation is unable to render, please try loading this page with nbviewer.org.</b></div><div class=\"sk-container\" hidden><div class=\"sk-item sk-dashed-wrapped\"><div class=\"sk-label-container\"><div class=\"sk-label sk-toggleable\"><input class=\"sk-toggleable__control sk-hidden--visually\" id=\"sk-estimator-id-9\" type=\"checkbox\" ><label for=\"sk-estimator-id-9\" class=\"sk-toggleable__label sk-toggleable__label-arrow\">Pipeline</label><div class=\"sk-toggleable__content\"><pre>Pipeline(steps=[(&#x27;columntransformer&#x27;,\n",
       "                 ColumnTransformer(remainder=&#x27;passthrough&#x27;,\n",
       "                                   transformers=[(&#x27;onehotencoder&#x27;,\n",
       "                                                  OneHotEncoder(categories=[array([&#x27;Birds&#x27;, &#x27;Black-tailed deer&#x27;, &#x27;Buffaloes&#x27;, &#x27;Cattle&#x27;, &#x27;Chicken&#x27;,\n",
       "       &#x27;Deer&#x27;, &#x27;Dog&#x27;, &#x27;Dogs&#x27;, &#x27;Donkey&#x27;, &#x27;Duck&#x27;, &#x27;Elephant&#x27;, &#x27;Elk&#x27;, &#x27;Fowl&#x27;,\n",
       "       &#x27;Fox&#x27;, &#x27;Fox &#x27;, &#x27;Goat&#x27;, &#x27;Goats&#x27;, &#x27;Hamster&#x27;, &#x27;Horse&#x27;, &#x27;Hyaenas&#x27;,\n",
       "       &#x27;Lion&#x27;, &#x27;Monkey&#x27;, &#x27;Moos&#x27;, &#x27;Mule deer&#x27;,...\n",
       "       &#x27;loss of\\xa0wariness&#x27;, &#x27;recumbency&#x27;, &#x27;restless movement&#x27;,\n",
       "       &#x27;slow growth&#x27;, &#x27;sudden death&#x27;, &#x27;swollen abdomen&#x27;, &#x27;trembling&#x27;,\n",
       "       &#x27;twisted neck&#x27;, &#x27;urination problem&#x27;, &#x27;weakness&#x27;,\n",
       "       &#x27;\\xa0increased passing gas&#x27;, &#x27;\\xa0pain and bloating&#x27;], dtype=object)],\n",
       "                                                                handle_unknown=&#x27;ignore&#x27;),\n",
       "                                                  [&#x27;AnimalName&#x27;, &#x27;symptoms1&#x27;,\n",
       "                                                   &#x27;symptoms2&#x27;, &#x27;symptoms3&#x27;,\n",
       "                                                   &#x27;symptoms4&#x27;,\n",
       "                                                   &#x27;symptoms5&#x27;])])),\n",
       "                (&#x27;randomforestclassifier&#x27;, RandomForestClassifier())])</pre></div></div></div><div class=\"sk-serial\"><div class=\"sk-item sk-dashed-wrapped\"><div class=\"sk-label-container\"><div class=\"sk-label sk-toggleable\"><input class=\"sk-toggleable__control sk-hidden--visually\" id=\"sk-estimator-id-10\" type=\"checkbox\" ><label for=\"sk-estimator-id-10\" class=\"sk-toggleable__label sk-toggleable__label-arrow\">columntransformer: ColumnTransformer</label><div class=\"sk-toggleable__content\"><pre>ColumnTransformer(remainder=&#x27;passthrough&#x27;,\n",
       "                  transformers=[(&#x27;onehotencoder&#x27;,\n",
       "                                 OneHotEncoder(categories=[array([&#x27;Birds&#x27;, &#x27;Black-tailed deer&#x27;, &#x27;Buffaloes&#x27;, &#x27;Cattle&#x27;, &#x27;Chicken&#x27;,\n",
       "       &#x27;Deer&#x27;, &#x27;Dog&#x27;, &#x27;Dogs&#x27;, &#x27;Donkey&#x27;, &#x27;Duck&#x27;, &#x27;Elephant&#x27;, &#x27;Elk&#x27;, &#x27;Fowl&#x27;,\n",
       "       &#x27;Fox&#x27;, &#x27;Fox &#x27;, &#x27;Goat&#x27;, &#x27;Goats&#x27;, &#x27;Hamster&#x27;, &#x27;Horse&#x27;, &#x27;Hyaenas&#x27;,\n",
       "       &#x27;Lion&#x27;, &#x27;Monkey&#x27;, &#x27;Moos&#x27;, &#x27;Mule deer&#x27;, &#x27;Other Birds&#x27;, &#x27;Pig&#x27;,\n",
       "       &#x27;Pigs&#x27;, &#x27;Rabbit&#x27;, &#x27;R...\n",
       "       &#x27;inability to rise&#x27;, &#x27;lack of vocalizations&#x27;, &#x27;lameness&#x27;,\n",
       "       &#x27;loss of\\xa0wariness&#x27;, &#x27;recumbency&#x27;, &#x27;restless movement&#x27;,\n",
       "       &#x27;slow growth&#x27;, &#x27;sudden death&#x27;, &#x27;swollen abdomen&#x27;, &#x27;trembling&#x27;,\n",
       "       &#x27;twisted neck&#x27;, &#x27;urination problem&#x27;, &#x27;weakness&#x27;,\n",
       "       &#x27;\\xa0increased passing gas&#x27;, &#x27;\\xa0pain and bloating&#x27;], dtype=object)],\n",
       "                                               handle_unknown=&#x27;ignore&#x27;),\n",
       "                                 [&#x27;AnimalName&#x27;, &#x27;symptoms1&#x27;, &#x27;symptoms2&#x27;,\n",
       "                                  &#x27;symptoms3&#x27;, &#x27;symptoms4&#x27;, &#x27;symptoms5&#x27;])])</pre></div></div></div><div class=\"sk-parallel\"><div class=\"sk-parallel-item\"><div class=\"sk-item\"><div class=\"sk-label-container\"><div class=\"sk-label sk-toggleable\"><input class=\"sk-toggleable__control sk-hidden--visually\" id=\"sk-estimator-id-11\" type=\"checkbox\" ><label for=\"sk-estimator-id-11\" class=\"sk-toggleable__label sk-toggleable__label-arrow\">onehotencoder</label><div class=\"sk-toggleable__content\"><pre>[&#x27;AnimalName&#x27;, &#x27;symptoms1&#x27;, &#x27;symptoms2&#x27;, &#x27;symptoms3&#x27;, &#x27;symptoms4&#x27;, &#x27;symptoms5&#x27;]</pre></div></div></div><div class=\"sk-serial\"><div class=\"sk-item\"><div class=\"sk-estimator sk-toggleable\"><input class=\"sk-toggleable__control sk-hidden--visually\" id=\"sk-estimator-id-12\" type=\"checkbox\" ><label for=\"sk-estimator-id-12\" class=\"sk-toggleable__label sk-toggleable__label-arrow\">OneHotEncoder</label><div class=\"sk-toggleable__content\"><pre>OneHotEncoder(categories=[array([&#x27;Birds&#x27;, &#x27;Black-tailed deer&#x27;, &#x27;Buffaloes&#x27;, &#x27;Cattle&#x27;, &#x27;Chicken&#x27;,\n",
       "       &#x27;Deer&#x27;, &#x27;Dog&#x27;, &#x27;Dogs&#x27;, &#x27;Donkey&#x27;, &#x27;Duck&#x27;, &#x27;Elephant&#x27;, &#x27;Elk&#x27;, &#x27;Fowl&#x27;,\n",
       "       &#x27;Fox&#x27;, &#x27;Fox &#x27;, &#x27;Goat&#x27;, &#x27;Goats&#x27;, &#x27;Hamster&#x27;, &#x27;Horse&#x27;, &#x27;Hyaenas&#x27;,\n",
       "       &#x27;Lion&#x27;, &#x27;Monkey&#x27;, &#x27;Moos&#x27;, &#x27;Mule deer&#x27;, &#x27;Other Birds&#x27;, &#x27;Pig&#x27;,\n",
       "       &#x27;Pigs&#x27;, &#x27;Rabbit&#x27;, &#x27;Reindeer&#x27;, &#x27;Sheep&#x27;, &#x27;Sika deer&#x27;, &#x27;Tiger&#x27;,\n",
       "       &#x27;Turtle&#x27;, &#x27;Wapiti&#x27;, &#x27;White-tailed deer&#x27;,...\n",
       "       &#x27;difficulty moving and eating&#x27;, &#x27;drooping ears&#x27;, &#x27;droopy wings&#x27;,\n",
       "       &#x27;dull ness&#x27;, &#x27;extending its neck&#x27;, &#x27;fever&#x27;, &#x27;gasping for breath&#x27;,\n",
       "       &#x27;inability to rise&#x27;, &#x27;lack of vocalizations&#x27;, &#x27;lameness&#x27;,\n",
       "       &#x27;loss of\\xa0wariness&#x27;, &#x27;recumbency&#x27;, &#x27;restless movement&#x27;,\n",
       "       &#x27;slow growth&#x27;, &#x27;sudden death&#x27;, &#x27;swollen abdomen&#x27;, &#x27;trembling&#x27;,\n",
       "       &#x27;twisted neck&#x27;, &#x27;urination problem&#x27;, &#x27;weakness&#x27;,\n",
       "       &#x27;\\xa0increased passing gas&#x27;, &#x27;\\xa0pain and bloating&#x27;], dtype=object)],\n",
       "              handle_unknown=&#x27;ignore&#x27;)</pre></div></div></div></div></div></div><div class=\"sk-parallel-item\"><div class=\"sk-item\"><div class=\"sk-label-container\"><div class=\"sk-label sk-toggleable\"><input class=\"sk-toggleable__control sk-hidden--visually\" id=\"sk-estimator-id-13\" type=\"checkbox\" ><label for=\"sk-estimator-id-13\" class=\"sk-toggleable__label sk-toggleable__label-arrow\">remainder</label><div class=\"sk-toggleable__content\"><pre>[]</pre></div></div></div><div class=\"sk-serial\"><div class=\"sk-item\"><div class=\"sk-estimator sk-toggleable\"><input class=\"sk-toggleable__control sk-hidden--visually\" id=\"sk-estimator-id-14\" type=\"checkbox\" ><label for=\"sk-estimator-id-14\" class=\"sk-toggleable__label sk-toggleable__label-arrow\">passthrough</label><div class=\"sk-toggleable__content\"><pre>passthrough</pre></div></div></div></div></div></div></div></div><div class=\"sk-item\"><div class=\"sk-estimator sk-toggleable\"><input class=\"sk-toggleable__control sk-hidden--visually\" id=\"sk-estimator-id-15\" type=\"checkbox\" ><label for=\"sk-estimator-id-15\" class=\"sk-toggleable__label sk-toggleable__label-arrow\">RandomForestClassifier</label><div class=\"sk-toggleable__content\"><pre>RandomForestClassifier()</pre></div></div></div></div></div></div></div>"
      ],
      "text/plain": [
       "Pipeline(steps=[('columntransformer',\n",
       "                 ColumnTransformer(remainder='passthrough',\n",
       "                                   transformers=[('onehotencoder',\n",
       "                                                  OneHotEncoder(categories=[array(['Birds', 'Black-tailed deer', 'Buffaloes', 'Cattle', 'Chicken',\n",
       "       'Deer', 'Dog', 'Dogs', 'Donkey', 'Duck', 'Elephant', 'Elk', 'Fowl',\n",
       "       'Fox', 'Fox ', 'Goat', 'Goats', 'Hamster', 'Horse', 'Hyaenas',\n",
       "       'Lion', 'Monkey', 'Moos', 'Mule deer',...\n",
       "       'loss of\\xa0wariness', 'recumbency', 'restless movement',\n",
       "       'slow growth', 'sudden death', 'swollen abdomen', 'trembling',\n",
       "       'twisted neck', 'urination problem', 'weakness',\n",
       "       '\\xa0increased passing gas', '\\xa0pain and bloating'], dtype=object)],\n",
       "                                                                handle_unknown='ignore'),\n",
       "                                                  ['AnimalName', 'symptoms1',\n",
       "                                                   'symptoms2', 'symptoms3',\n",
       "                                                   'symptoms4',\n",
       "                                                   'symptoms5'])])),\n",
       "                ('randomforestclassifier', RandomForestClassifier())])"
      ]
     },
     "execution_count": 20,
     "metadata": {},
     "output_type": "execute_result"
    }
   ],
   "source": [
    "pipe.fit(x_train,y_train)"
   ]
  },
  {
   "cell_type": "code",
   "execution_count": 21,
   "metadata": {},
   "outputs": [
    {
     "data": {
      "text/plain": [
       "array(['Cobalt Defiency', 'Black Leg', 'campylobacterosis',\n",
       "       'Salmonellosis', 'Canine Influenza', 'Feline herpesvirus',\n",
       "       'myxomatosis', 'cerebellar hypoplasia', 'Clostridial Disease',\n",
       "       'CWD', 'Ring worm', 'Anemia', 'Canine Influenza', 'Deworming',\n",
       "       'Canine Influenza', 'Feather Plucking', 'Polioencephalomalacia',\n",
       "       'Clostridial Disease', 'Deformed lambs', 'giardiasis',\n",
       "       'verminosis', 'Clostridial Disease', 'Scrotal hernia',\n",
       "       'Tuberculosis', 'Hypothermia', 'Chronic Wasting', 'Lyme',\n",
       "       'Canine Influenza', 'Haemonchosis', 'ORF', 'Black Leg', 'Bloat',\n",
       "       'Whooping cough', 'Soremouth', 'Bone caner', 'Epistaxis',\n",
       "       'Contagious Bovin', 'anthrax', 'Stomach Worms', 'Coccoidiosis',\n",
       "       'Infectious canine hepatitis', 'Gastritis', 'CWD', 'Deworming',\n",
       "       'Mycoplasma Synoviac', 'gastrointestinal disorders',\n",
       "       'Hemangiosarcoma', 'Bovine tuberculosis', 'Fatty Liver',\n",
       "       'Diphtherictic', 'Zoonosis', 'Blastomyces', 'Necropsy',\n",
       "       'Toxoplasma gondii', 'Acidosis', 'Kennel cough', 'Bloat',\n",
       "       'anthrax', 'Encephalitis', 'Rhinitis', 'Avian Bornavirus',\n",
       "       'Toxoplasmosis', 'Epistaxis', 'Wool loss', 'Copper Defiency',\n",
       "       \"Marek's\", 'White muscle', 'leptospirosis',\n",
       "       'Rocky mountain spotted fever', 'Bloat', 'HeartWorm',\n",
       "       'haemorrhagic septicaemia', 'Histoplasmosis ', 'Coccidiosis',\n",
       "       'Lice', 'Upper respiratory infection', 'anthrax', 'tuberculosis',\n",
       "       'Influenza A and B', 'CWD', 'Anthrax', 'Abortion', 'Tick',\n",
       "       'Haemorrhagic Septicemia', 'Ear mites', 'tetanus', 'Ticks',\n",
       "       'Histoplasmosis'], dtype=object)"
      ]
     },
     "execution_count": 21,
     "metadata": {},
     "output_type": "execute_result"
    }
   ],
   "source": [
    "pipe.predict(x_test)"
   ]
  },
  {
   "cell_type": "markdown",
   "metadata": {},
   "source": [
    "Check Accuracy "
   ]
  },
  {
   "cell_type": "code",
   "execution_count": 22,
   "metadata": {},
   "outputs": [
    {
     "data": {
      "text/plain": [
       "0.8068181818181818"
      ]
     },
     "execution_count": 22,
     "metadata": {},
     "output_type": "execute_result"
    }
   ],
   "source": [
    "pipe.score(x_test,y_test)"
   ]
  },
  {
   "cell_type": "code",
   "execution_count": 23,
   "metadata": {},
   "outputs": [
    {
     "data": {
      "text/plain": [
       "0.9833971902937421"
      ]
     },
     "execution_count": 23,
     "metadata": {},
     "output_type": "execute_result"
    }
   ],
   "source": [
    "pipe.score(x_train,y_train)"
   ]
  },
  {
   "cell_type": "code",
   "execution_count": 24,
   "metadata": {},
   "outputs": [],
   "source": [
    "import pickle"
   ]
  },
  {
   "cell_type": "markdown",
   "metadata": {},
   "source": [
    "Pickle Creation"
   ]
  },
  {
   "cell_type": "code",
   "execution_count": 25,
   "metadata": {},
   "outputs": [],
   "source": [
    "pickle.dump(pipe,open('Random1.pkl','wb'))"
   ]
  },
  {
   "cell_type": "code",
   "execution_count": 26,
   "metadata": {},
   "outputs": [
    {
     "data": {
      "text/plain": [
       "array(['Histoplasmosis'], dtype=object)"
      ]
     },
     "execution_count": 26,
     "metadata": {},
     "output_type": "execute_result"
    }
   ],
   "source": [
    "pipe.predict(pd.DataFrame([['Snake','Fever','Difficulty breathing','Poor Appetite','Eye and Skin change','Unable to exercise']],columns=['AnimalName','symptoms1','symptoms2','symptoms3','symptoms4','symptoms5']))"
   ]
  },
  {
   "cell_type": "code",
   "execution_count": null,
   "metadata": {},
   "outputs": [],
   "source": []
  }
 ],
 "metadata": {
  "kernelspec": {
   "display_name": "base",
   "language": "python",
   "name": "python3"
  },
  "language_info": {
   "codemirror_mode": {
    "name": "ipython",
    "version": 3
   },
   "file_extension": ".py",
   "mimetype": "text/x-python",
   "name": "python",
   "nbconvert_exporter": "python",
   "pygments_lexer": "ipython3",
   "version": "3.9.13"
  },
  "vscode": {
   "interpreter": {
    "hash": "cbecf3acc15eca3b5a80eb68c34145e6b09d7fe1a3dc27416211e94e2eb989e4"
   }
  }
 },
 "nbformat": 4,
 "nbformat_minor": 4
}
